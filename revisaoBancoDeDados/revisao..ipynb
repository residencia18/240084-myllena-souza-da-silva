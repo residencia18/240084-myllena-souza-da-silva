{
 "cells": [
  {
   "cell_type": "markdown",
   "metadata": {},
   "source": [
    "## BANCO DE DADOS"
   ]
  },
  {
   "cell_type": "markdown",
   "metadata": {},
   "source": [
    "* Existe dois tipos de bancos de dados, os relacionais que são os SQL e os não relacionais que são o NOSQL, os bancos de dados geralmente são caracterizados como tabelas que contém linhas e colunas."
   ]
  },
  {
   "cell_type": "markdown",
   "metadata": {},
   "source": [
    "* Considerando uma tabela que contém nas colunas ID, NOME, CPF, DT NASCIMENTO E NACIONALIDADE e nas linhas as respectivas informações de cada coluna. Cada tabela é um conjunto de dados bem definidos."
   ]
  },
  {
   "cell_type": "markdown",
   "metadata": {},
   "source": [
    "* Para associar uma tabela com a outra é preciso dazer uma chave estrangeira, que é  uma outra tabela que contem informações que será usada na tabela primária (USUARIO)"
   ]
  }
 ],
 "metadata": {
  "language_info": {
   "name": "python"
  },
  "orig_nbformat": 4
 },
 "nbformat": 4,
 "nbformat_minor": 2
}
